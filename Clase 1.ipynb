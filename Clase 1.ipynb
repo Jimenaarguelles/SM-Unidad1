{
 "cells": [
  {
   "cell_type": "markdown",
   "id": "956eb5d9-56f0-4068-91fa-797469b2edd7",
   "metadata": {
    "tags": []
   },
   "source": [
    "# Jimena Argüelles"
   ]
  },
  {
   "cell_type": "markdown",
   "id": "33448713-2ec4-4157-b63c-5ab57abc551e",
   "metadata": {
    "tags": []
   },
   "source": [
    "## Mi presentación y tema que me gusta"
   ]
  },
  {
   "cell_type": "markdown",
   "id": "b2c2b395-4499-4268-b1a9-c2b94db424d8",
   "metadata": {
    "tags": []
   },
   "source": [
    "Soy estudiante de tercer semestre de ingeniería financiera, tengo 18 años, me gusta escuchar música y jugar tenis.\n",
    "\n",
    "Un tema que me llama la atención de mi carrera es la predicción de riesgos es el futuro mediante el uso de fórmulas.\n",
    "\n",
    "Creo que el saber al respecto te da una visión más acertada para saber que desición tomar.\n"
   ]
  },
  {
   "cell_type": "markdown",
   "id": "65ed91cf-0d11-415a-809c-be0dc7fe8430",
   "metadata": {
    "tags": []
   },
   "source": [
    "En un futuro me gustaría trabajar por **mi cuenta**"
   ]
  },
  {
   "cell_type": "markdown",
   "id": "9abed2f9-5e82-4126-a712-2eb724d80184",
   "metadata": {
    "tags": []
   },
   "source": [
    "Con esto me refiero a tener los conocimientos necesarios para poder *invertir o crear* una empresa"
   ]
  },
  {
   "cell_type": "markdown",
   "id": "f228441e-ddb7-4b99-81bc-132150d9a528",
   "metadata": {
    "tags": []
   },
   "source": [
    "Para poder lograr mis objetivos debo saber álgebra básica, aquí un ejemplo: $x+y=2$"
   ]
  },
  {
   "cell_type": "markdown",
   "id": "292181de-1237-4e5d-bfc3-3ff284384917",
   "metadata": {
    "tags": []
   },
   "source": [
    "Algunas cualidades y dificultades que tengo:\n",
    "1. Eficiente\n",
    "2. Distraída\n",
    "3. Determinada\n",
    "4. Inteligente\n",
    "5. Impaciente\n",
    "6. Independiente"
   ]
  },
  {
   "cell_type": "markdown",
   "id": "c3b56dcc-07fc-4be1-a0e5-cce68d8cd892",
   "metadata": {
    "tags": []
   },
   "source": [
    "![](https://www.upb.edu/sites/default/files/styles/nivo_slider_front_page__1920x630/public/Financiera-02.png?itok=a7v3C76e)"
   ]
  },
  {
   "cell_type": "markdown",
   "id": "06226f56-5bf7-42a2-a8c4-e185aadc9a86",
   "metadata": {
    "tags": []
   },
   "source": [
    "Elegí esta carrera porque:\n",
    "* En innovadora\n",
    "* Ayuda a resolver problemas matemáticos\n",
    "* Da una visión mas amplia laboralmente\n",
    "* Gran campo laboral"
   ]
  }
 ],
 "metadata": {
  "kernelspec": {
   "display_name": "Python 3 (ipykernel)",
   "language": "python",
   "name": "python3"
  },
  "language_info": {
   "codemirror_mode": {
    "name": "ipython",
    "version": 3
   },
   "file_extension": ".py",
   "mimetype": "text/x-python",
   "name": "python",
   "nbconvert_exporter": "python",
   "pygments_lexer": "ipython3",
   "version": "3.9.12"
  }
 },
 "nbformat": 4,
 "nbformat_minor": 5
}
